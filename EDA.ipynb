{
  "nbformat": 4,
  "nbformat_minor": 0,
  "metadata": {
    "colab": {
      "name": "EDA.ipynb",
      "provenance": [],
      "mount_file_id": "1axPhrvL3gm7kY6Pz187C7fReWnj9X1Cz",
      "authorship_tag": "ABX9TyMXMdb2JojYVkBYApvmLVZM",
      "include_colab_link": true
    },
    "kernelspec": {
      "name": "python3",
      "display_name": "Python 3"
    },
    "language_info": {
      "name": "python"
    }
  },
  "cells": [
    {
      "cell_type": "markdown",
      "metadata": {
        "id": "view-in-github",
        "colab_type": "text"
      },
      "source": [
        "<a href=\"https://colab.research.google.com/github/raviyadav44/Types-Of-Trnasformation/blob/main/EDA.ipynb\" target=\"_parent\"><img src=\"https://colab.research.google.com/assets/colab-badge.svg\" alt=\"Open In Colab\"/></a>"
      ]
    },
    {
      "cell_type": "code",
      "metadata": {
        "id": "8mjf7oqzj45j"
      },
      "source": [
        "import pandas as pd\n",
        "import numpy as np\n",
        "from matplotlib import pyplot as plt\n",
        "import pickle\n",
        "df=pd.read_excel('/content/drive/MyDrive/aqi/air_quality.xlsx',header=1)"
      ],
      "execution_count": null,
      "outputs": []
    },
    {
      "cell_type": "code",
      "metadata": {
        "colab": {
          "base_uri": "https://localhost:8080/",
          "height": 195
        },
        "id": "SrpUemo0j_k9",
        "outputId": "5f678d2f-8040-4b30-a079-460fcfa17eed"
      },
      "source": [
        "df.head()"
      ],
      "execution_count": null,
      "outputs": [
        {
          "output_type": "execute_result",
          "data": {
            "text/html": [
              "<div>\n",
              "<style scoped>\n",
              "    .dataframe tbody tr th:only-of-type {\n",
              "        vertical-align: middle;\n",
              "    }\n",
              "\n",
              "    .dataframe tbody tr th {\n",
              "        vertical-align: top;\n",
              "    }\n",
              "\n",
              "    .dataframe thead th {\n",
              "        text-align: right;\n",
              "    }\n",
              "</style>\n",
              "<table border=\"1\" class=\"dataframe\">\n",
              "  <thead>\n",
              "    <tr style=\"text-align: right;\">\n",
              "      <th></th>\n",
              "      <th>Sr No.</th>\n",
              "      <th>Name of Station</th>\n",
              "      <th>Date</th>\n",
              "      <th>NO</th>\n",
              "      <th>NO2</th>\n",
              "      <th>NOx</th>\n",
              "      <th>NH3</th>\n",
              "      <th>SO2</th>\n",
              "      <th>CO</th>\n",
              "      <th>O3</th>\n",
              "      <th>PM2.5</th>\n",
              "      <th>PM10</th>\n",
              "      <th>Air Quality</th>\n",
              "      <th>AQI</th>\n",
              "    </tr>\n",
              "  </thead>\n",
              "  <tbody>\n",
              "    <tr>\n",
              "      <th>0</th>\n",
              "      <td>1</td>\n",
              "      <td>Ambala</td>\n",
              "      <td>01.01.2020</td>\n",
              "      <td>55.04</td>\n",
              "      <td>87.10</td>\n",
              "      <td>89.64</td>\n",
              "      <td>33.72</td>\n",
              "      <td>18.04</td>\n",
              "      <td>1.39</td>\n",
              "      <td>34.60</td>\n",
              "      <td>113.33</td>\n",
              "      <td>215.96</td>\n",
              "      <td>Poor</td>\n",
              "      <td>269</td>\n",
              "    </tr>\n",
              "    <tr>\n",
              "      <th>1</th>\n",
              "      <td>2</td>\n",
              "      <td>Bahadurgarh</td>\n",
              "      <td>01.01.2020</td>\n",
              "      <td>55.13</td>\n",
              "      <td>98.94</td>\n",
              "      <td>92.99</td>\n",
              "      <td>54.68</td>\n",
              "      <td>17.04</td>\n",
              "      <td>2.51</td>\n",
              "      <td>22.08</td>\n",
              "      <td>162.97</td>\n",
              "      <td>222.29</td>\n",
              "      <td>Very Poor</td>\n",
              "      <td>334</td>\n",
              "    </tr>\n",
              "    <tr>\n",
              "      <th>2</th>\n",
              "      <td>3</td>\n",
              "      <td>Ballabgarh</td>\n",
              "      <td>01.01.2020</td>\n",
              "      <td>39.19</td>\n",
              "      <td>99.80</td>\n",
              "      <td>90.53</td>\n",
              "      <td>58.27</td>\n",
              "      <td>3.32</td>\n",
              "      <td>3.35</td>\n",
              "      <td>4.77</td>\n",
              "      <td>242.98</td>\n",
              "      <td>402.69</td>\n",
              "      <td>Very Poor</td>\n",
              "      <td>397</td>\n",
              "    </tr>\n",
              "    <tr>\n",
              "      <th>3</th>\n",
              "      <td>4</td>\n",
              "      <td>Bhiwani</td>\n",
              "      <td>01.01.2020</td>\n",
              "      <td>4.42</td>\n",
              "      <td>36.47</td>\n",
              "      <td>22.27</td>\n",
              "      <td>12.09</td>\n",
              "      <td>24.38</td>\n",
              "      <td>1.26</td>\n",
              "      <td>69.59</td>\n",
              "      <td>161.53</td>\n",
              "      <td>199.28</td>\n",
              "      <td>Very Poor</td>\n",
              "      <td>349</td>\n",
              "    </tr>\n",
              "    <tr>\n",
              "      <th>4</th>\n",
              "      <td>5</td>\n",
              "      <td>Dharuhera</td>\n",
              "      <td>01.01.2020</td>\n",
              "      <td>83.68</td>\n",
              "      <td>73.10</td>\n",
              "      <td>105.29</td>\n",
              "      <td>46.34</td>\n",
              "      <td>19.64</td>\n",
              "      <td>3.27</td>\n",
              "      <td>21.13</td>\n",
              "      <td>107.29</td>\n",
              "      <td>390.84</td>\n",
              "      <td>Very Poor</td>\n",
              "      <td>329</td>\n",
              "    </tr>\n",
              "  </tbody>\n",
              "</table>\n",
              "</div>"
            ],
            "text/plain": [
              "   Sr No. Name of Station        Date     NO  ...   PM2.5    PM10  Air Quality  AQI\n",
              "0       1          Ambala  01.01.2020  55.04  ...  113.33  215.96         Poor  269\n",
              "1       2     Bahadurgarh  01.01.2020  55.13  ...  162.97  222.29    Very Poor  334\n",
              "2       3      Ballabgarh  01.01.2020  39.19  ...  242.98  402.69    Very Poor  397\n",
              "3       4         Bhiwani  01.01.2020   4.42  ...  161.53  199.28    Very Poor  349\n",
              "4       5       Dharuhera  01.01.2020  83.68  ...  107.29  390.84    Very Poor  329\n",
              "\n",
              "[5 rows x 14 columns]"
            ]
          },
          "metadata": {
            "tags": []
          },
          "execution_count": 3
        }
      ]
    },
    {
      "cell_type": "code",
      "metadata": {
        "id": "LMC7eOqOj_h6"
      },
      "source": [
        "df['Date']=pd.to_datetime(df['Date'])"
      ],
      "execution_count": null,
      "outputs": []
    },
    {
      "cell_type": "code",
      "metadata": {
        "id": "Qhun7tpQj_dW"
      },
      "source": [
        "df.drop('Sr No.',axis=1,inplace=True)"
      ],
      "execution_count": null,
      "outputs": []
    },
    {
      "cell_type": "code",
      "metadata": {
        "id": "Nk6lRstTkz3X"
      },
      "source": [
        "df.drop('Air Quality',axis=1,inplace=True)"
      ],
      "execution_count": null,
      "outputs": []
    },
    {
      "cell_type": "code",
      "metadata": {
        "colab": {
          "base_uri": "https://localhost:8080/",
          "height": 402
        },
        "id": "mI17oGBaj_aU",
        "outputId": "d2ba4408-caad-44dc-bb5e-88d43d863f9c"
      },
      "source": [
        "df.dropna()"
      ],
      "execution_count": null,
      "outputs": [
        {
          "output_type": "execute_result",
          "data": {
            "text/html": [
              "<div>\n",
              "<style scoped>\n",
              "    .dataframe tbody tr th:only-of-type {\n",
              "        vertical-align: middle;\n",
              "    }\n",
              "\n",
              "    .dataframe tbody tr th {\n",
              "        vertical-align: top;\n",
              "    }\n",
              "\n",
              "    .dataframe thead th {\n",
              "        text-align: right;\n",
              "    }\n",
              "</style>\n",
              "<table border=\"1\" class=\"dataframe\">\n",
              "  <thead>\n",
              "    <tr style=\"text-align: right;\">\n",
              "      <th></th>\n",
              "      <th>Name of Station</th>\n",
              "      <th>Date</th>\n",
              "      <th>NO</th>\n",
              "      <th>NO2</th>\n",
              "      <th>NOx</th>\n",
              "      <th>NH3</th>\n",
              "      <th>SO2</th>\n",
              "      <th>CO</th>\n",
              "      <th>O3</th>\n",
              "      <th>PM2.5</th>\n",
              "      <th>PM10</th>\n",
              "      <th>Air Quality</th>\n",
              "      <th>AQI</th>\n",
              "    </tr>\n",
              "  </thead>\n",
              "  <tbody>\n",
              "    <tr>\n",
              "      <th>0</th>\n",
              "      <td>Ambala</td>\n",
              "      <td>2020-01-01</td>\n",
              "      <td>55.04</td>\n",
              "      <td>87.10</td>\n",
              "      <td>89.64</td>\n",
              "      <td>33.72</td>\n",
              "      <td>18.04</td>\n",
              "      <td>1.39</td>\n",
              "      <td>34.60</td>\n",
              "      <td>113.33</td>\n",
              "      <td>215.96</td>\n",
              "      <td>Poor</td>\n",
              "      <td>269</td>\n",
              "    </tr>\n",
              "    <tr>\n",
              "      <th>1</th>\n",
              "      <td>Bahadurgarh</td>\n",
              "      <td>2020-01-01</td>\n",
              "      <td>55.13</td>\n",
              "      <td>98.94</td>\n",
              "      <td>92.99</td>\n",
              "      <td>54.68</td>\n",
              "      <td>17.04</td>\n",
              "      <td>2.51</td>\n",
              "      <td>22.08</td>\n",
              "      <td>162.97</td>\n",
              "      <td>222.29</td>\n",
              "      <td>Very Poor</td>\n",
              "      <td>334</td>\n",
              "    </tr>\n",
              "    <tr>\n",
              "      <th>2</th>\n",
              "      <td>Ballabgarh</td>\n",
              "      <td>2020-01-01</td>\n",
              "      <td>39.19</td>\n",
              "      <td>99.80</td>\n",
              "      <td>90.53</td>\n",
              "      <td>58.27</td>\n",
              "      <td>3.32</td>\n",
              "      <td>3.35</td>\n",
              "      <td>4.77</td>\n",
              "      <td>242.98</td>\n",
              "      <td>402.69</td>\n",
              "      <td>Very Poor</td>\n",
              "      <td>397</td>\n",
              "    </tr>\n",
              "    <tr>\n",
              "      <th>3</th>\n",
              "      <td>Bhiwani</td>\n",
              "      <td>2020-01-01</td>\n",
              "      <td>4.42</td>\n",
              "      <td>36.47</td>\n",
              "      <td>22.27</td>\n",
              "      <td>12.09</td>\n",
              "      <td>24.38</td>\n",
              "      <td>1.26</td>\n",
              "      <td>69.59</td>\n",
              "      <td>161.53</td>\n",
              "      <td>199.28</td>\n",
              "      <td>Very Poor</td>\n",
              "      <td>349</td>\n",
              "    </tr>\n",
              "    <tr>\n",
              "      <th>4</th>\n",
              "      <td>Dharuhera</td>\n",
              "      <td>2020-01-01</td>\n",
              "      <td>83.68</td>\n",
              "      <td>73.10</td>\n",
              "      <td>105.29</td>\n",
              "      <td>46.34</td>\n",
              "      <td>19.64</td>\n",
              "      <td>3.27</td>\n",
              "      <td>21.13</td>\n",
              "      <td>107.29</td>\n",
              "      <td>390.84</td>\n",
              "      <td>Very Poor</td>\n",
              "      <td>329</td>\n",
              "    </tr>\n",
              "    <tr>\n",
              "      <th>...</th>\n",
              "      <td>...</td>\n",
              "      <td>...</td>\n",
              "      <td>...</td>\n",
              "      <td>...</td>\n",
              "      <td>...</td>\n",
              "      <td>...</td>\n",
              "      <td>...</td>\n",
              "      <td>...</td>\n",
              "      <td>...</td>\n",
              "      <td>...</td>\n",
              "      <td>...</td>\n",
              "      <td>...</td>\n",
              "      <td>...</td>\n",
              "    </tr>\n",
              "    <tr>\n",
              "      <th>2157</th>\n",
              "      <td>Panipat</td>\n",
              "      <td>2019-12-31</td>\n",
              "      <td>425.58</td>\n",
              "      <td>79.63</td>\n",
              "      <td>382.88</td>\n",
              "      <td>33.80</td>\n",
              "      <td>30.16</td>\n",
              "      <td>0.18</td>\n",
              "      <td>38.58</td>\n",
              "      <td>172.29</td>\n",
              "      <td>410.87</td>\n",
              "      <td>Very Poor</td>\n",
              "      <td>318</td>\n",
              "    </tr>\n",
              "    <tr>\n",
              "      <th>2158</th>\n",
              "      <td>Rohtak</td>\n",
              "      <td>2019-12-31</td>\n",
              "      <td>0.00</td>\n",
              "      <td>0.00</td>\n",
              "      <td>0.00</td>\n",
              "      <td>0.00</td>\n",
              "      <td>13.18</td>\n",
              "      <td>1.41</td>\n",
              "      <td>34.00</td>\n",
              "      <td>204.08</td>\n",
              "      <td>0.00</td>\n",
              "      <td>Very Poor</td>\n",
              "      <td>374</td>\n",
              "    </tr>\n",
              "    <tr>\n",
              "      <th>2159</th>\n",
              "      <td>Sirsa</td>\n",
              "      <td>2019-12-31</td>\n",
              "      <td>6.46</td>\n",
              "      <td>2.54</td>\n",
              "      <td>4.93</td>\n",
              "      <td>4.09</td>\n",
              "      <td>26.80</td>\n",
              "      <td>1.25</td>\n",
              "      <td>20.17</td>\n",
              "      <td>83.14</td>\n",
              "      <td>183.90</td>\n",
              "      <td>Moderate</td>\n",
              "      <td>136</td>\n",
              "    </tr>\n",
              "    <tr>\n",
              "      <th>2160</th>\n",
              "      <td>Sonipat</td>\n",
              "      <td>2019-12-31</td>\n",
              "      <td>34.06</td>\n",
              "      <td>16.63</td>\n",
              "      <td>3.37</td>\n",
              "      <td>25.31</td>\n",
              "      <td>26.01</td>\n",
              "      <td>2.70</td>\n",
              "      <td>6.97</td>\n",
              "      <td>68.48</td>\n",
              "      <td>342.57</td>\n",
              "      <td>Moderate</td>\n",
              "      <td>153</td>\n",
              "    </tr>\n",
              "    <tr>\n",
              "      <th>2161</th>\n",
              "      <td>Yamuna Nagar</td>\n",
              "      <td>2019-12-31</td>\n",
              "      <td>6.64</td>\n",
              "      <td>13.93</td>\n",
              "      <td>13.41</td>\n",
              "      <td>9.07</td>\n",
              "      <td>0.97</td>\n",
              "      <td>0.65</td>\n",
              "      <td>0.46</td>\n",
              "      <td>84.00</td>\n",
              "      <td>145.20</td>\n",
              "      <td>Poor</td>\n",
              "      <td>296</td>\n",
              "    </tr>\n",
              "  </tbody>\n",
              "</table>\n",
              "<p>2162 rows × 13 columns</p>\n",
              "</div>"
            ],
            "text/plain": [
              "     Name of Station       Date      NO    NO2  ...   PM2.5    PM10  Air Quality  AQI\n",
              "0             Ambala 2020-01-01   55.04  87.10  ...  113.33  215.96         Poor  269\n",
              "1        Bahadurgarh 2020-01-01   55.13  98.94  ...  162.97  222.29    Very Poor  334\n",
              "2         Ballabgarh 2020-01-01   39.19  99.80  ...  242.98  402.69    Very Poor  397\n",
              "3            Bhiwani 2020-01-01    4.42  36.47  ...  161.53  199.28    Very Poor  349\n",
              "4          Dharuhera 2020-01-01   83.68  73.10  ...  107.29  390.84    Very Poor  329\n",
              "...              ...        ...     ...    ...  ...     ...     ...          ...  ...\n",
              "2157         Panipat 2019-12-31  425.58  79.63  ...  172.29  410.87    Very Poor  318\n",
              "2158          Rohtak 2019-12-31    0.00   0.00  ...  204.08    0.00    Very Poor  374\n",
              "2159           Sirsa 2019-12-31    6.46   2.54  ...   83.14  183.90     Moderate  136\n",
              "2160         Sonipat 2019-12-31   34.06  16.63  ...   68.48  342.57     Moderate  153\n",
              "2161    Yamuna Nagar 2019-12-31    6.64  13.93  ...   84.00  145.20         Poor  296\n",
              "\n",
              "[2162 rows x 13 columns]"
            ]
          },
          "metadata": {
            "tags": []
          },
          "execution_count": 6
        }
      ]
    },
    {
      "cell_type": "code",
      "metadata": {
        "id": "prB-vvHVj_XN"
      },
      "source": [
        "df.drop(['Name of Station','Date'],axis=1,inplace=True)"
      ],
      "execution_count": null,
      "outputs": []
    },
    {
      "cell_type": "code",
      "metadata": {
        "colab": {
          "base_uri": "https://localhost:8080/"
        },
        "id": "-PLNnPazkOFF",
        "outputId": "363d2c65-1a09-4394-b6db-d5fa495456f5"
      },
      "source": [
        "((df['Air Quality']==\"#\") |(df['Air Quality']==\"$\") | (df['Air Quality']==\"Not-Obtained\")).sum()"
      ],
      "execution_count": null,
      "outputs": [
        {
          "output_type": "execute_result",
          "data": {
            "text/plain": [
              "121"
            ]
          },
          "metadata": {
            "tags": []
          },
          "execution_count": 11
        }
      ]
    },
    {
      "cell_type": "code",
      "metadata": {
        "colab": {
          "base_uri": "https://localhost:8080/",
          "height": 195
        },
        "id": "MtpO0Cwekvbs",
        "outputId": "402e070f-9749-49be-aae4-7bf66027de74"
      },
      "source": [
        "df.head()"
      ],
      "execution_count": null,
      "outputs": [
        {
          "output_type": "execute_result",
          "data": {
            "text/html": [
              "<div>\n",
              "<style scoped>\n",
              "    .dataframe tbody tr th:only-of-type {\n",
              "        vertical-align: middle;\n",
              "    }\n",
              "\n",
              "    .dataframe tbody tr th {\n",
              "        vertical-align: top;\n",
              "    }\n",
              "\n",
              "    .dataframe thead th {\n",
              "        text-align: right;\n",
              "    }\n",
              "</style>\n",
              "<table border=\"1\" class=\"dataframe\">\n",
              "  <thead>\n",
              "    <tr style=\"text-align: right;\">\n",
              "      <th></th>\n",
              "      <th>NO</th>\n",
              "      <th>NO2</th>\n",
              "      <th>NOx</th>\n",
              "      <th>NH3</th>\n",
              "      <th>SO2</th>\n",
              "      <th>CO</th>\n",
              "      <th>O3</th>\n",
              "      <th>PM2.5</th>\n",
              "      <th>PM10</th>\n",
              "      <th>AQI</th>\n",
              "    </tr>\n",
              "  </thead>\n",
              "  <tbody>\n",
              "    <tr>\n",
              "      <th>0</th>\n",
              "      <td>55.04</td>\n",
              "      <td>87.10</td>\n",
              "      <td>89.64</td>\n",
              "      <td>33.72</td>\n",
              "      <td>18.04</td>\n",
              "      <td>1.39</td>\n",
              "      <td>34.60</td>\n",
              "      <td>113.33</td>\n",
              "      <td>215.96</td>\n",
              "      <td>269</td>\n",
              "    </tr>\n",
              "    <tr>\n",
              "      <th>1</th>\n",
              "      <td>55.13</td>\n",
              "      <td>98.94</td>\n",
              "      <td>92.99</td>\n",
              "      <td>54.68</td>\n",
              "      <td>17.04</td>\n",
              "      <td>2.51</td>\n",
              "      <td>22.08</td>\n",
              "      <td>162.97</td>\n",
              "      <td>222.29</td>\n",
              "      <td>334</td>\n",
              "    </tr>\n",
              "    <tr>\n",
              "      <th>2</th>\n",
              "      <td>39.19</td>\n",
              "      <td>99.80</td>\n",
              "      <td>90.53</td>\n",
              "      <td>58.27</td>\n",
              "      <td>3.32</td>\n",
              "      <td>3.35</td>\n",
              "      <td>4.77</td>\n",
              "      <td>242.98</td>\n",
              "      <td>402.69</td>\n",
              "      <td>397</td>\n",
              "    </tr>\n",
              "    <tr>\n",
              "      <th>3</th>\n",
              "      <td>4.42</td>\n",
              "      <td>36.47</td>\n",
              "      <td>22.27</td>\n",
              "      <td>12.09</td>\n",
              "      <td>24.38</td>\n",
              "      <td>1.26</td>\n",
              "      <td>69.59</td>\n",
              "      <td>161.53</td>\n",
              "      <td>199.28</td>\n",
              "      <td>349</td>\n",
              "    </tr>\n",
              "    <tr>\n",
              "      <th>4</th>\n",
              "      <td>83.68</td>\n",
              "      <td>73.10</td>\n",
              "      <td>105.29</td>\n",
              "      <td>46.34</td>\n",
              "      <td>19.64</td>\n",
              "      <td>3.27</td>\n",
              "      <td>21.13</td>\n",
              "      <td>107.29</td>\n",
              "      <td>390.84</td>\n",
              "      <td>329</td>\n",
              "    </tr>\n",
              "  </tbody>\n",
              "</table>\n",
              "</div>"
            ],
            "text/plain": [
              "      NO    NO2     NOx    NH3    SO2    CO     O3   PM2.5    PM10  AQI\n",
              "0  55.04  87.10   89.64  33.72  18.04  1.39  34.60  113.33  215.96  269\n",
              "1  55.13  98.94   92.99  54.68  17.04  2.51  22.08  162.97  222.29  334\n",
              "2  39.19  99.80   90.53  58.27   3.32  3.35   4.77  242.98  402.69  397\n",
              "3   4.42  36.47   22.27  12.09  24.38  1.26  69.59  161.53  199.28  349\n",
              "4  83.68  73.10  105.29  46.34  19.64  3.27  21.13  107.29  390.84  329"
            ]
          },
          "metadata": {
            "tags": []
          },
          "execution_count": 16
        }
      ]
    },
    {
      "cell_type": "code",
      "metadata": {
        "id": "iGQHIMPZkP49"
      },
      "source": [
        "import matplotlib.pyplot as plt"
      ],
      "execution_count": null,
      "outputs": []
    },
    {
      "cell_type": "code",
      "metadata": {
        "id": "Vtuf6ywlkP2C"
      },
      "source": [
        "import scipy.stats as stat\n",
        "import pylab"
      ],
      "execution_count": null,
      "outputs": []
    },
    {
      "cell_type": "code",
      "metadata": {
        "id": "RPMTDo3skPzD"
      },
      "source": [
        "#### If you want to check whether feature is guassian or normal distributed\n",
        "#### Q-Q plot\n",
        "def plot_data(df,feature):\n",
        "    plt.figure(figsize=(10,6))\n",
        "    plt.subplot(1,2,1)\n",
        "    df[feature].hist()\n",
        "    plt.subplot(1,2,2)\n",
        "    stat.probplot(df[feature],dist='norm',plot=pylab)\n",
        "    plt.show()"
      ],
      "execution_count": null,
      "outputs": []
    },
    {
      "cell_type": "code",
      "metadata": {
        "colab": {
          "base_uri": "https://localhost:8080/",
          "height": 404
        },
        "id": "0FhQSKAGkPth",
        "outputId": "90646f46-b37b-4feb-a583-2379eba83302"
      },
      "source": [
        "plot_data(df,'NO')"
      ],
      "execution_count": null,
      "outputs": [
        {
          "output_type": "display_data",
          "data": {
            "image/png": "[encoded data removed]",
            "text/plain": [
              "<Figure size 720x432 with 2 Axes>"
            ]
          },
          "metadata": {
            "tags": [],
            "needs_background": "light"
          }
        }
      ]
    },
    {
      "cell_type": "markdown",
      "metadata": {
        "id": "8XlYkNYflFNj"
      },
      "source": [
        "Logrithmic transformation"
      ]
    },
    {
      "cell_type": "code",
      "metadata": {
        "colab": {
          "base_uri": "https://localhost:8080/",
          "height": 438
        },
        "id": "eRcRIgKHkPqa",
        "outputId": "e6d39aae-37d9-4d50-83f5-533efc4784da"
      },
      "source": [
        "import numpy as np\n",
        "df['NO_log']=np.log(df['NO'])\n",
        "plot_data(df,'NO')"
      ],
      "execution_count": null,
      "outputs": [
        {
          "output_type": "stream",
          "text": [
            "/usr/local/lib/python3.7/dist-packages/pandas/core/series.py:726: RuntimeWarning: divide by zero encountered in log\n",
            "  result = getattr(ufunc, method)(*inputs, **kwargs)\n"
          ],
          "name": "stderr"
        },
        {
          "output_type": "display_data",
          "data": {
            "image/png": "[encoded data removed]",
            "text/plain": [
              "<Figure size 720x432 with 2 Axes>"
            ]
          },
          "metadata": {
            "tags": [],
            "needs_background": "light"
          }
        }
      ]
    },
    {
      "cell_type": "markdown",
      "metadata": {
        "id": "JgRc3mTRlS_l"
      },
      "source": [
        "Reciprocal Trnasformation"
      ]
    },
    {
      "cell_type": "code",
      "metadata": {
        "id": "0c4PW3CvlSsG"
      },
      "source": [
        "df['NO_reciprocal']=1/(df.NO)\n",
        "#plot_data(df,'NO_reciprocal') cannot use reciprocal"
      ],
      "execution_count": null,
      "outputs": []
    },
    {
      "cell_type": "code",
      "metadata": {
        "colab": {
          "base_uri": "https://localhost:8080/",
          "height": 404
        },
        "id": "82SKB3ialSnf",
        "outputId": "5cc1feff-0aa8-48ee-a3a4-681eefbf8b5a"
      },
      "source": [
        "##### Square Root Transformation\n",
        "df['NO_sqaure']=df.NO**(1/2)\n",
        "plot_data(df,'NO_sqaure')"
      ],
      "execution_count": null,
      "outputs": [
        {
          "output_type": "display_data",
          "data": {
            "image/png": "[encoded data removed]",
            "text/plain": [
              "<Figure size 720x432 with 2 Axes>"
            ]
          },
          "metadata": {
            "tags": [],
            "needs_background": "light"
          }
        }
      ]
    },
    {
      "cell_type": "code",
      "metadata": {
        "colab": {
          "base_uri": "https://localhost:8080/",
          "height": 404
        },
        "id": "3TdW0AWHlSkx",
        "outputId": "63593eb6-94a2-4260-ffc3-fc1b001d9375"
      },
      "source": [
        "### Exponential Transdormation\n",
        "df['NO_exponential']=df.NO**(1/1.2)\n",
        "plot_data(df,'NO_exponential')"
      ],
      "execution_count": null,
      "outputs": [
        {
          "output_type": "display_data",
          "data": {
            "image/png": "[encoded data removed]",
            "text/plain": [
              "<Figure size 720x432 with 2 Axes>"
            ]
          },
          "metadata": {
            "tags": [],
            "needs_background": "light"
          }
        }
      ]
    },
    {
      "cell_type": "code",
      "metadata": {
        "colab": {
          "base_uri": "https://localhost:8080/"
        },
        "id": "NIiiM6rLmusG",
        "outputId": "1893d5e8-44c1-4839-958d-c4363fb44e5d"
      },
      "source": [
        "df['NO'].dtype"
      ],
      "execution_count": null,
      "outputs": [
        {
          "output_type": "execute_result",
          "data": {
            "text/plain": [
              "dtype('float64')"
            ]
          },
          "metadata": {
            "tags": []
          },
          "execution_count": 28
        }
      ]
    },
    {
      "cell_type": "code",
      "metadata": {
        "colab": {
          "base_uri": "https://localhost:8080/",
          "height": 279
        },
        "id": "_LJkcrkamcWA",
        "outputId": "0c4c3747-975e-461e-e3bd-7e0bc992b61d"
      },
      "source": [
        "df['NO_Boxcox'],parameters=stat.boxcox(df['NO'])"
      ],
      "execution_count": null,
      "outputs": [
        {
          "output_type": "error",
          "ename": "ValueError",
          "evalue": "ignored",
          "traceback": [
            "\u001b[0;31m---------------------------------------------------------------------------\u001b[0m",
            "\u001b[0;31mValueError\u001b[0m                                Traceback (most recent call last)",
            "\u001b[0;32m<ipython-input-32-ccf737820a68>\u001b[0m in \u001b[0;36m<module>\u001b[0;34m()\u001b[0m\n\u001b[0;32m----> 1\u001b[0;31m \u001b[0mdf\u001b[0m\u001b[0;34m[\u001b[0m\u001b[0;34m'NO_Boxcox'\u001b[0m\u001b[0;34m]\u001b[0m\u001b[0;34m,\u001b[0m\u001b[0mparameters\u001b[0m\u001b[0;34m=\u001b[0m\u001b[0mstat\u001b[0m\u001b[0;34m.\u001b[0m\u001b[0mboxcox\u001b[0m\u001b[0;34m(\u001b[0m\u001b[0mdf\u001b[0m\u001b[0;34m[\u001b[0m\u001b[0;34m'NO'\u001b[0m\u001b[0;34m]\u001b[0m\u001b[0;34m)\u001b[0m\u001b[0;34m\u001b[0m\u001b[0;34m\u001b[0m\u001b[0m\n\u001b[0m",
            "\u001b[0;32m/usr/local/lib/python3.7/dist-packages/scipy/stats/morestats.py\u001b[0m in \u001b[0;36mboxcox\u001b[0;34m(x, lmbda, alpha)\u001b[0m\n\u001b[1;32m   1043\u001b[0m \u001b[0;34m\u001b[0m\u001b[0m\n\u001b[1;32m   1044\u001b[0m     \u001b[0;32mif\u001b[0m \u001b[0many\u001b[0m\u001b[0;34m(\u001b[0m\u001b[0mx\u001b[0m \u001b[0;34m<=\u001b[0m \u001b[0;36m0\u001b[0m\u001b[0;34m)\u001b[0m\u001b[0;34m:\u001b[0m\u001b[0;34m\u001b[0m\u001b[0;34m\u001b[0m\u001b[0m\n\u001b[0;32m-> 1045\u001b[0;31m         \u001b[0;32mraise\u001b[0m \u001b[0mValueError\u001b[0m\u001b[0;34m(\u001b[0m\u001b[0;34m\"Data must be positive.\"\u001b[0m\u001b[0;34m)\u001b[0m\u001b[0;34m\u001b[0m\u001b[0;34m\u001b[0m\u001b[0m\n\u001b[0m\u001b[1;32m   1046\u001b[0m \u001b[0;34m\u001b[0m\u001b[0m\n\u001b[1;32m   1047\u001b[0m     \u001b[0;32mif\u001b[0m \u001b[0mlmbda\u001b[0m \u001b[0;32mis\u001b[0m \u001b[0;32mnot\u001b[0m \u001b[0;32mNone\u001b[0m\u001b[0;34m:\u001b[0m  \u001b[0;31m# single transformation\u001b[0m\u001b[0;34m\u001b[0m\u001b[0;34m\u001b[0m\u001b[0m\n",
            "\u001b[0;31mValueError\u001b[0m: Data must be positive."
          ]
        }
      ]
    },
    {
      "cell_type": "code",
      "metadata": {
        "colab": {
          "base_uri": "https://localhost:8080/",
          "height": 917
        },
        "id": "pZ0ispsQnzkx",
        "outputId": "872041df-3389-4f06-a99c-e05d7eafcacd"
      },
      "source": [
        "plot_data(df,'NO_Boxcox')"
      ],
      "execution_count": null,
      "outputs": [
        {
          "output_type": "error",
          "ename": "KeyError",
          "evalue": "ignored",
          "traceback": [
            "\u001b[0;31m---------------------------------------------------------------------------\u001b[0m",
            "\u001b[0;31mKeyError\u001b[0m                                  Traceback (most recent call last)",
            "\u001b[0;32m/usr/local/lib/python3.7/dist-packages/pandas/core/indexes/base.py\u001b[0m in \u001b[0;36mget_loc\u001b[0;34m(self, key, method, tolerance)\u001b[0m\n\u001b[1;32m   2897\u001b[0m             \u001b[0;32mtry\u001b[0m\u001b[0;34m:\u001b[0m\u001b[0;34m\u001b[0m\u001b[0;34m\u001b[0m\u001b[0m\n\u001b[0;32m-> 2898\u001b[0;31m                 \u001b[0;32mreturn\u001b[0m \u001b[0mself\u001b[0m\u001b[0;34m.\u001b[0m\u001b[0m_engine\u001b[0m\u001b[0;34m.\u001b[0m\u001b[0mget_loc\u001b[0m\u001b[0;34m(\u001b[0m\u001b[0mcasted_key\u001b[0m\u001b[0;34m)\u001b[0m\u001b[0;34m\u001b[0m\u001b[0;34m\u001b[0m\u001b[0m\n\u001b[0m\u001b[1;32m   2899\u001b[0m             \u001b[0;32mexcept\u001b[0m \u001b[0mKeyError\u001b[0m \u001b[0;32mas\u001b[0m \u001b[0merr\u001b[0m\u001b[0;34m:\u001b[0m\u001b[0;34m\u001b[0m\u001b[0;34m\u001b[0m\u001b[0m\n",
            "\u001b[0;32mpandas/_libs/index.pyx\u001b[0m in \u001b[0;36mpandas._libs.index.IndexEngine.get_loc\u001b[0;34m()\u001b[0m\n",
            "\u001b[0;32mpandas/_libs/index.pyx\u001b[0m in \u001b[0;36mpandas._libs.index.IndexEngine.get_loc\u001b[0;34m()\u001b[0m\n",
            "\u001b[0;32mpandas/_libs/hashtable_class_helper.pxi\u001b[0m in \u001b[0;36mpandas._libs.hashtable.PyObjectHashTable.get_item\u001b[0;34m()\u001b[0m\n",
            "\u001b[0;32mpandas/_libs/hashtable_class_helper.pxi\u001b[0m in \u001b[0;36mpandas._libs.hashtable.PyObjectHashTable.get_item\u001b[0;34m()\u001b[0m\n",
            "\u001b[0;31mKeyError\u001b[0m: 'NO_Boxcox'",
            "\nThe above exception was the direct cause of the following exception:\n",
            "\u001b[0;31mKeyError\u001b[0m                                  Traceback (most recent call last)",
            "\u001b[0;32m<ipython-input-31-2d81aad7ea06>\u001b[0m in \u001b[0;36m<module>\u001b[0;34m()\u001b[0m\n\u001b[0;32m----> 1\u001b[0;31m \u001b[0mplot_data\u001b[0m\u001b[0;34m(\u001b[0m\u001b[0mdf\u001b[0m\u001b[0;34m,\u001b[0m\u001b[0;34m'NO_Boxcox'\u001b[0m\u001b[0;34m)\u001b[0m\u001b[0;34m\u001b[0m\u001b[0;34m\u001b[0m\u001b[0m\n\u001b[0m",
            "\u001b[0;32m<ipython-input-9-c1b04ce2e08c>\u001b[0m in \u001b[0;36mplot_data\u001b[0;34m(df, feature)\u001b[0m\n\u001b[1;32m      4\u001b[0m     \u001b[0mplt\u001b[0m\u001b[0;34m.\u001b[0m\u001b[0mfigure\u001b[0m\u001b[0;34m(\u001b[0m\u001b[0mfigsize\u001b[0m\u001b[0;34m=\u001b[0m\u001b[0;34m(\u001b[0m\u001b[0;36m10\u001b[0m\u001b[0;34m,\u001b[0m\u001b[0;36m6\u001b[0m\u001b[0;34m)\u001b[0m\u001b[0;34m)\u001b[0m\u001b[0;34m\u001b[0m\u001b[0;34m\u001b[0m\u001b[0m\n\u001b[1;32m      5\u001b[0m     \u001b[0mplt\u001b[0m\u001b[0;34m.\u001b[0m\u001b[0msubplot\u001b[0m\u001b[0;34m(\u001b[0m\u001b[0;36m1\u001b[0m\u001b[0;34m,\u001b[0m\u001b[0;36m2\u001b[0m\u001b[0;34m,\u001b[0m\u001b[0;36m1\u001b[0m\u001b[0;34m)\u001b[0m\u001b[0;34m\u001b[0m\u001b[0;34m\u001b[0m\u001b[0m\n\u001b[0;32m----> 6\u001b[0;31m     \u001b[0mdf\u001b[0m\u001b[0;34m[\u001b[0m\u001b[0mfeature\u001b[0m\u001b[0;34m]\u001b[0m\u001b[0;34m.\u001b[0m\u001b[0mhist\u001b[0m\u001b[0;34m(\u001b[0m\u001b[0;34m)\u001b[0m\u001b[0;34m\u001b[0m\u001b[0;34m\u001b[0m\u001b[0m\n\u001b[0m\u001b[1;32m      7\u001b[0m     \u001b[0mplt\u001b[0m\u001b[0;34m.\u001b[0m\u001b[0msubplot\u001b[0m\u001b[0;34m(\u001b[0m\u001b[0;36m1\u001b[0m\u001b[0;34m,\u001b[0m\u001b[0;36m2\u001b[0m\u001b[0;34m,\u001b[0m\u001b[0;36m2\u001b[0m\u001b[0;34m)\u001b[0m\u001b[0;34m\u001b[0m\u001b[0;34m\u001b[0m\u001b[0m\n\u001b[1;32m      8\u001b[0m     \u001b[0mstat\u001b[0m\u001b[0;34m.\u001b[0m\u001b[0mprobplot\u001b[0m\u001b[0;34m(\u001b[0m\u001b[0mdf\u001b[0m\u001b[0;34m[\u001b[0m\u001b[0mfeature\u001b[0m\u001b[0;34m]\u001b[0m\u001b[0;34m,\u001b[0m\u001b[0mdist\u001b[0m\u001b[0;34m=\u001b[0m\u001b[0;34m'norm'\u001b[0m\u001b[0;34m,\u001b[0m\u001b[0mplot\u001b[0m\u001b[0;34m=\u001b[0m\u001b[0mpylab\u001b[0m\u001b[0;34m)\u001b[0m\u001b[0;34m\u001b[0m\u001b[0;34m\u001b[0m\u001b[0m\n",
            "\u001b[0;32m/usr/local/lib/python3.7/dist-packages/pandas/core/frame.py\u001b[0m in \u001b[0;36m__getitem__\u001b[0;34m(self, key)\u001b[0m\n\u001b[1;32m   2904\u001b[0m             \u001b[0;32mif\u001b[0m \u001b[0mself\u001b[0m\u001b[0;34m.\u001b[0m\u001b[0mcolumns\u001b[0m\u001b[0;34m.\u001b[0m\u001b[0mnlevels\u001b[0m \u001b[0;34m>\u001b[0m \u001b[0;36m1\u001b[0m\u001b[0;34m:\u001b[0m\u001b[0;34m\u001b[0m\u001b[0;34m\u001b[0m\u001b[0m\n\u001b[1;32m   2905\u001b[0m                 \u001b[0;32mreturn\u001b[0m \u001b[0mself\u001b[0m\u001b[0;34m.\u001b[0m\u001b[0m_getitem_multilevel\u001b[0m\u001b[0;34m(\u001b[0m\u001b[0mkey\u001b[0m\u001b[0;34m)\u001b[0m\u001b[0;34m\u001b[0m\u001b[0;34m\u001b[0m\u001b[0m\n\u001b[0;32m-> 2906\u001b[0;31m             \u001b[0mindexer\u001b[0m \u001b[0;34m=\u001b[0m \u001b[0mself\u001b[0m\u001b[0;34m.\u001b[0m\u001b[0mcolumns\u001b[0m\u001b[0;34m.\u001b[0m\u001b[0mget_loc\u001b[0m\u001b[0;34m(\u001b[0m\u001b[0mkey\u001b[0m\u001b[0;34m)\u001b[0m\u001b[0;34m\u001b[0m\u001b[0;34m\u001b[0m\u001b[0m\n\u001b[0m\u001b[1;32m   2907\u001b[0m             \u001b[0;32mif\u001b[0m \u001b[0mis_integer\u001b[0m\u001b[0;34m(\u001b[0m\u001b[0mindexer\u001b[0m\u001b[0;34m)\u001b[0m\u001b[0;34m:\u001b[0m\u001b[0;34m\u001b[0m\u001b[0;34m\u001b[0m\u001b[0m\n\u001b[1;32m   2908\u001b[0m                 \u001b[0mindexer\u001b[0m \u001b[0;34m=\u001b[0m \u001b[0;34m[\u001b[0m\u001b[0mindexer\u001b[0m\u001b[0;34m]\u001b[0m\u001b[0;34m\u001b[0m\u001b[0;34m\u001b[0m\u001b[0m\n",
            "\u001b[0;32m/usr/local/lib/python3.7/dist-packages/pandas/core/indexes/base.py\u001b[0m in \u001b[0;36mget_loc\u001b[0;34m(self, key, method, tolerance)\u001b[0m\n\u001b[1;32m   2898\u001b[0m                 \u001b[0;32mreturn\u001b[0m \u001b[0mself\u001b[0m\u001b[0;34m.\u001b[0m\u001b[0m_engine\u001b[0m\u001b[0;34m.\u001b[0m\u001b[0mget_loc\u001b[0m\u001b[0;34m(\u001b[0m\u001b[0mcasted_key\u001b[0m\u001b[0;34m)\u001b[0m\u001b[0;34m\u001b[0m\u001b[0;34m\u001b[0m\u001b[0m\n\u001b[1;32m   2899\u001b[0m             \u001b[0;32mexcept\u001b[0m \u001b[0mKeyError\u001b[0m \u001b[0;32mas\u001b[0m \u001b[0merr\u001b[0m\u001b[0;34m:\u001b[0m\u001b[0;34m\u001b[0m\u001b[0;34m\u001b[0m\u001b[0m\n\u001b[0;32m-> 2900\u001b[0;31m                 \u001b[0;32mraise\u001b[0m \u001b[0mKeyError\u001b[0m\u001b[0;34m(\u001b[0m\u001b[0mkey\u001b[0m\u001b[0;34m)\u001b[0m \u001b[0;32mfrom\u001b[0m \u001b[0merr\u001b[0m\u001b[0;34m\u001b[0m\u001b[0;34m\u001b[0m\u001b[0m\n\u001b[0m\u001b[1;32m   2901\u001b[0m \u001b[0;34m\u001b[0m\u001b[0m\n\u001b[1;32m   2902\u001b[0m         \u001b[0;32mif\u001b[0m \u001b[0mtolerance\u001b[0m \u001b[0;32mis\u001b[0m \u001b[0;32mnot\u001b[0m \u001b[0;32mNone\u001b[0m\u001b[0;34m:\u001b[0m\u001b[0;34m\u001b[0m\u001b[0;34m\u001b[0m\u001b[0m\n",
            "\u001b[0;31mKeyError\u001b[0m: 'NO_Boxcox'"
          ]
        },
        {
          "output_type": "display_data",
          "data": {
            "image/png": "[encoded data removed]",
            "text/plain": [
              "<Figure size 720x432 with 1 Axes>"
            ]
          },
          "metadata": {
            "tags": [],
            "needs_background": "light"
          }
        }
      ]
    }
  ]
}